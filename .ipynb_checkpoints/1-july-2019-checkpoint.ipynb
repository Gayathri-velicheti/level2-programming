{
 "cells": [
  {
   "cell_type": "markdown",
   "metadata": {},
   "source": [
    "### Day Objectives\n",
    "#### Practice on Income Dataset\n",
    "##### Define functions for the following data points\n",
    "- Average Income of all states from 2005 to 2013\n",
    "- State with highest average income in the last three years\n",
    "- State with lowest average income from 2007 to 2010(inclusive)\n",
    "- Print the list of all states in the same line with average income less than California\n",
    "- Print the names of states based on descending order of income in the year 2009\n",
    "- State with the lowest recorded income from 2005 to 2013\n"
   ]
  },
  {
   "cell_type": "code",
   "execution_count": 3,
   "metadata": {},
   "outputs": [
    {
     "data": {
      "text/html": [
       "<div>\n",
       "<style scoped>\n",
       "    .dataframe tbody tr th:only-of-type {\n",
       "        vertical-align: middle;\n",
       "    }\n",
       "\n",
       "    .dataframe tbody tr th {\n",
       "        vertical-align: top;\n",
       "    }\n",
       "\n",
       "    .dataframe thead th {\n",
       "        text-align: right;\n",
       "    }\n",
       "</style>\n",
       "<table border=\"1\" class=\"dataframe\">\n",
       "  <thead>\n",
       "    <tr style=\"text-align: right;\">\n",
       "      <th></th>\n",
       "      <th>GEOID</th>\n",
       "      <th>State</th>\n",
       "      <th>2005</th>\n",
       "      <th>2006</th>\n",
       "      <th>2007</th>\n",
       "      <th>2008</th>\n",
       "      <th>2009</th>\n",
       "      <th>2010</th>\n",
       "      <th>2011</th>\n",
       "      <th>2012</th>\n",
       "      <th>2013</th>\n",
       "    </tr>\n",
       "  </thead>\n",
       "  <tbody>\n",
       "    <tr>\n",
       "      <th>0</th>\n",
       "      <td>04000US01</td>\n",
       "      <td>Alabama</td>\n",
       "      <td>37150</td>\n",
       "      <td>37952</td>\n",
       "      <td>42212</td>\n",
       "      <td>44476</td>\n",
       "      <td>39980</td>\n",
       "      <td>40933</td>\n",
       "      <td>42590</td>\n",
       "      <td>43464</td>\n",
       "      <td>41381</td>\n",
       "    </tr>\n",
       "    <tr>\n",
       "      <th>1</th>\n",
       "      <td>04000US02</td>\n",
       "      <td>Alaska</td>\n",
       "      <td>55891</td>\n",
       "      <td>56418</td>\n",
       "      <td>62993</td>\n",
       "      <td>63989</td>\n",
       "      <td>61604</td>\n",
       "      <td>57848</td>\n",
       "      <td>57431</td>\n",
       "      <td>63648</td>\n",
       "      <td>61137</td>\n",
       "    </tr>\n",
       "    <tr>\n",
       "      <th>2</th>\n",
       "      <td>04000US04</td>\n",
       "      <td>Arizona</td>\n",
       "      <td>45245</td>\n",
       "      <td>46657</td>\n",
       "      <td>62993</td>\n",
       "      <td>46914</td>\n",
       "      <td>45739</td>\n",
       "      <td>46896</td>\n",
       "      <td>48621</td>\n",
       "      <td>47044</td>\n",
       "      <td>50602</td>\n",
       "    </tr>\n",
       "    <tr>\n",
       "      <th>3</th>\n",
       "      <td>04000US05</td>\n",
       "      <td>Arkansas</td>\n",
       "      <td>36658</td>\n",
       "      <td>37057</td>\n",
       "      <td>40795</td>\n",
       "      <td>39586</td>\n",
       "      <td>36538</td>\n",
       "      <td>38587</td>\n",
       "      <td>41302</td>\n",
       "      <td>39018</td>\n",
       "      <td>39919</td>\n",
       "    </tr>\n",
       "    <tr>\n",
       "      <th>4</th>\n",
       "      <td>04000US06</td>\n",
       "      <td>California</td>\n",
       "      <td>51755</td>\n",
       "      <td>55319</td>\n",
       "      <td>55734</td>\n",
       "      <td>57014</td>\n",
       "      <td>56134</td>\n",
       "      <td>54283</td>\n",
       "      <td>53367</td>\n",
       "      <td>57020</td>\n",
       "      <td>57528</td>\n",
       "    </tr>\n",
       "  </tbody>\n",
       "</table>\n",
       "</div>"
      ],
      "text/plain": [
       "       GEOID       State   2005   2006   2007   2008   2009   2010   2011  \\\n",
       "0  04000US01     Alabama  37150  37952  42212  44476  39980  40933  42590   \n",
       "1  04000US02      Alaska  55891  56418  62993  63989  61604  57848  57431   \n",
       "2  04000US04     Arizona  45245  46657  62993  46914  45739  46896  48621   \n",
       "3  04000US05    Arkansas  36658  37057  40795  39586  36538  38587  41302   \n",
       "4  04000US06  California  51755  55319  55734  57014  56134  54283  53367   \n",
       "\n",
       "    2012   2013  \n",
       "0  43464  41381  \n",
       "1  63648  61137  \n",
       "2  47044  50602  \n",
       "3  39018  39919  \n",
       "4  57020  57528  "
      ]
     },
     "execution_count": 3,
     "metadata": {},
     "output_type": "execute_result"
    }
   ],
   "source": [
    "filepath='DataFiles/Income.csv'\n",
    "import pandas as pd\n",
    "def readCSVdata(filepath):\n",
    "    return pd.read_csv(filepath)\n",
    "\n",
    "readCSVdata(filepath)\n",
    "    "
   ]
  },
  {
   "cell_type": "code",
   "execution_count": 4,
   "metadata": {},
   "outputs": [
    {
     "data": {
      "text/plain": [
       "60106.555555555555"
      ]
     },
     "execution_count": 4,
     "metadata": {},
     "output_type": "execute_result"
    }
   ],
   "source": [
    "incomedf=readCSVdata(filepath)\n",
    "#def accessdatafromcolumn(df,column):\n",
    "#incomedf.values()\n",
    "def accessdataframerow(df,key):\n",
    "    sum=0\n",
    "    count=0\n",
    "    for row in df.values:\n",
    "        if key in row:\n",
    "            for item in range(2,len(row)):\n",
    "                count+=1\n",
    "                sum=sum+row[item]\n",
    "                \n",
    "            #print('\\n')\n",
    "    return sum/count\n",
    "accessdataframerow(incomedf,'Alaska')"
   ]
  },
  {
   "cell_type": "code",
   "execution_count": 5,
   "metadata": {},
   "outputs": [
    {
     "name": "stdout",
     "output_type": "stream",
     "text": [
      "37150\n",
      "55891\n",
      "45245\n",
      "36658\n",
      "51755\n"
     ]
    },
    {
     "data": {
      "text/plain": [
       "45339.8"
      ]
     },
     "execution_count": 5,
     "metadata": {},
     "output_type": "execute_result"
    }
   ],
   "source": [
    "incomedf=readCSVdata(filepath)\n",
    "def avgofeachcolumn(df,columnindex):\n",
    "    #print(rowindex)\n",
    "    sum=0\n",
    "    for row in incomedf.values:\n",
    "        print(row[columnindex])\n",
    "        sum+=row[columnindex]\n",
    "    return sum/len(incomedf.values)\n",
    "avgofeachcolumn(incomedf,2)"
   ]
  },
  {
   "cell_type": "code",
   "execution_count": 7,
   "metadata": {},
   "outputs": [],
   "source": [
    "def avgofallyears(df,lb,ub):\n",
    "    c=0\n",
    "    add=0\n",
    "    for columnindex in range(lb,ub+1):\n",
    "        c=c+1\n",
    "        add=add+avgofeachcolumn(df,columnindex)\n",
    "        #print(add)\n",
    "        #print(c)\n",
    "    return add/c\n",
    "#avgofallyears(incomedf,2,10)     \n",
    "    "
   ]
  },
  {
   "cell_type": "code",
   "execution_count": 46,
   "metadata": {},
   "outputs": [
    {
     "name": "stdout",
     "output_type": "stream",
     "text": [
      "48876.044444444444\n"
     ]
    }
   ],
   "source": [
    "li=[37150,37952,42212,44476,39980,40933,42590,43464,41381,55891,56418,62993,63989,61604,57848,57431,63648,61137,45245,46657,62993,46914,45739,46896,48621,47044,50602,36658,37057,40795,39586,36538,38587,41302,39018,39919,51755,55319,55734,57014,56134,54283,53367,57020,57528]\n",
    "print(sum(li)/45)"
   ]
  },
  {
   "cell_type": "code",
   "execution_count": 11,
   "metadata": {},
   "outputs": [
    {
     "data": {
      "text/plain": [
       "60738.666666666664"
      ]
     },
     "execution_count": 11,
     "metadata": {},
     "output_type": "execute_result"
    }
   ],
   "source": [
    "def avgofstateingivenrange(df,rowkey,lb,ub):\n",
    "    count=0\n",
    "    sum=0\n",
    "    for row in df.values:\n",
    "        if rowkey in row:\n",
    "            for item in range(lb,ub+1):\n",
    "                count=count+1\n",
    "                #print(count)\n",
    "                sum=sum+row[item]\n",
    "                #print(sum)\n",
    "    return sum/count\n",
    "\n",
    "avgofstateingivenrange(incomedf,'Alaska',8,10)"
   ]
  },
  {
   "cell_type": "code",
   "execution_count": 24,
   "metadata": {},
   "outputs": [
    {
     "name": "stdout",
     "output_type": "stream",
     "text": [
      "Alaska\n"
     ]
    }
   ],
   "source": [
    "def maxavgincomeingivenrange(df,columnindex,lb,ub):\n",
    "    #for rowkey in range(firstrow,lastrow+1):\n",
    "    li={}\n",
    "    for column in incomedf.values:\n",
    "        rowkey=str(column[columnindex])\n",
    "        #print(type(rowkey)) \n",
    "        li[rowkey]=(avgofstateingivenrange(df,rowkey,lb,ub))\n",
    "    for item in li.items():\n",
    "        if item[1]==max(li.values()):\n",
    "            print(item[0])\n",
    "maxavgincomeingivenrange(incomedf,1,8,10)"
   ]
  },
  {
   "cell_type": "code",
   "execution_count": null,
   "metadata": {},
   "outputs": [],
   "source": []
  }
 ],
 "metadata": {
  "kernelspec": {
   "display_name": "Python 3",
   "language": "python",
   "name": "python3"
  },
  "language_info": {
   "codemirror_mode": {
    "name": "ipython",
    "version": 3
   },
   "file_extension": ".py",
   "mimetype": "text/x-python",
   "name": "python",
   "nbconvert_exporter": "python",
   "pygments_lexer": "ipython3",
   "version": "3.7.3"
  }
 },
 "nbformat": 4,
 "nbformat_minor": 2
}
