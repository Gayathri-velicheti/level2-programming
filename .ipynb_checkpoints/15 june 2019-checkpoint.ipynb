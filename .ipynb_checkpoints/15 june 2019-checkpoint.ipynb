{
 "cells": [
  {
   "cell_type": "code",
   "execution_count": 1,
   "metadata": {},
   "outputs": [
    {
     "name": "stdout",
     "output_type": "stream",
     "text": [
      "98\n"
     ]
    }
   ],
   "source": [
    "S = \"abc cab\"\n",
    "S.split()\n",
    "s1 = S[0]\n",
    "s2 = S[1]\n",
    "sm1 = 0\n",
    "for ch in s1:\n",
    "    sm1 += ord(ch)\n",
    "sm2 = 0\n",
    "for ch in s2:\n",
    "    sm2 += ord(ch)\n",
    "print(sm2)"
   ]
  },
  {
   "cell_type": "code",
   "execution_count": 2,
   "metadata": {},
   "outputs": [
    {
     "name": "stdout",
     "output_type": "stream",
     "text": [
      "abeD\n",
      "ABEd\n"
     ]
    }
   ],
   "source": [
    "# Toggle string without functions\n",
    "\n",
    "def toggle():\n",
    "    s = input()\n",
    "    new=\"\"\n",
    "    capitals = ['A','B','C','D','E','F']\n",
    "    small = ['a','b','c','d','e','f']\n",
    "    for i in s:\n",
    "        if i in capitals:\n",
    "            n=capitals.index(i)\n",
    "            new=new+small[n]\n",
    "        if i in small:\n",
    "            m=small.index(i)\n",
    "            new=new+capitals[m]\n",
    "    print(new)\n",
    "toggle()"
   ]
  },
  {
   "cell_type": "code",
   "execution_count": null,
   "metadata": {},
   "outputs": [],
   "source": []
  },
  {
   "cell_type": "code",
   "execution_count": null,
   "metadata": {},
   "outputs": [],
   "source": []
  },
  {
   "cell_type": "code",
   "execution_count": null,
   "metadata": {},
   "outputs": [],
   "source": []
  },
  {
   "cell_type": "markdown",
   "metadata": {},
   "source": [
    "#### Duration \n",
    "Input:start time,endtime(hh,mm)\n",
    "    hh - {00,23} - {00 00, 23 59}\n",
    "    mm - {00.59}\n",
    "    hh mm - {00 00, 23 59}\n",
    "    \n",
    "Output: time difference in hh mm"
   ]
  },
  {
   "cell_type": "code",
   "execution_count": 4,
   "metadata": {},
   "outputs": [
    {
     "name": "stdout",
     "output_type": "stream",
     "text": [
      "5 58\n"
     ]
    }
   ],
   "source": [
    "#Convert the \n",
    "s = \"2 42 8 40\"\n",
    "\n",
    "def minuteDifference(s):\n",
    "    s = s.split()\n",
    "    sh = int(s[0])\n",
    "    sm = int(s[1])\n",
    "    eh = int(s[2])\n",
    "    em = int(s[3])\n",
    "    startminutes = (sh * 60)+ sm\n",
    "    endminutes = (eh * 60)+ em\n",
    "    return endminutes-startminutes\n",
    "def outputTimeFormat(minutes):\n",
    "    hh = minutes//60\n",
    "    mm = minutes%60\n",
    "    print(hh,mm)\n",
    "    return\n",
    "minutes= minuteDifference(s)\n",
    "outputTimeFormat(minutes)"
   ]
  },
  {
   "cell_type": "code",
   "execution_count": null,
   "metadata": {},
   "outputs": [],
   "source": [
    "### PlayWith Numbers\n",
    "n = input().split() \n",
    "\n",
    "n[0],n[1] = int(n[0]),int(n[1])\n",
    "\n",
    "a = input().split()\n",
    "\n",
    "sum = [] # Initilize cumulative sum array  \n",
    "\n",
    "# Cumulative Sum\n",
    "\n",
    "for i in range(0,n):\n",
    "    if i == 0:\n",
    "        sum.append(int(a[1]))\n",
    "    else:\n",
    "        sum.append(int(sum[i-1])+int(a[i]))\n",
    "print(sum[n[0]-1])\n",
    "\n",
    "del a\n",
    "    \n",
    "#Read each query and calculate the average\n",
    "\n",
    "for k in range(0,n[1]):\n",
    "    inq = input().split()\n",
    "    i = int(inq[0])\n",
    "    j = int(inq[1])\n",
    "    if i > 1:\n",
    "        print((sum[j-1] - sum[i-2]) // (j-i-1))\n",
    "    else:\n",
    "        print(sum[j-1]) // (j-i-1))"
   ]
  },
  {
   "cell_type": "code",
   "execution_count": 1,
   "metadata": {},
   "outputs": [
    {
     "name": "stdout",
     "output_type": "stream",
     "text": [
      "2\n",
      "2\n",
      "6\n",
      "YES\n",
      "3\n",
      "No\n"
     ]
    }
   ],
   "source": [
    "# Function to determine if a number is special number or not\n",
    "def isSpecialNumber(n,p):\n",
    "    if numberPrimeFactors(n) == p:\n",
    "        return True\n",
    "    return False\n",
    "\n",
    "# Function to check if the number is prime or not\n",
    "def isPrime(n):\n",
    "    flag = 1\n",
    "    if n == 2:\n",
    "        return True\n",
    "    for i in range(2, n//2 + 1):\n",
    "        if n % i == 0:\n",
    "            flag = 0\n",
    "            return False\n",
    "    if flag == 1:\n",
    "        return True\n",
    "\n",
    "\n",
    "# Function to determine number of prime factors\n",
    "def numberPrimeFactors(n):\n",
    "    if isPrime(n):\n",
    "        return 1\n",
    "    count = 0\n",
    "    for i in range(2, n // 2+1):\n",
    "        if isPrime(i) and n % i == 0:\n",
    "            count = count + 1\n",
    "    return count\n",
    "\n",
    "# isSpecialNumber(30,2)\n",
    "\n",
    "def solution2(n,p):\n",
    "    p = int(input())\n",
    "    t = int(input())\n",
    "    for i in range(0,t):\n",
    "        n = int(input())\n",
    "        if isSpecialNumber(n,p):\n",
    "            print(\"YES\")\n",
    "        else:\n",
    "            print(\"No\")\n",
    "solution2(6,2)\n"
   ]
  },
  {
   "cell_type": "markdown",
   "metadata": {},
   "source": [
    "### Problem: Highest Reminder\n"
   ]
  },
  {
   "cell_type": "code",
   "execution_count": 8,
   "metadata": {},
   "outputs": [
    {
     "name": "stdout",
     "output_type": "stream",
     "text": [
      "17\n"
     ]
    }
   ],
   "source": [
    "def highestReminder(n):\n",
    "    highRem = 0\n",
    "    value = n\n",
    "    for i in range(n-1, n // 2 + 1,-1):\n",
    "        rem = n % i\n",
    "        if rem > highRem:\n",
    "            highRem = rem\n",
    "            value = i\n",
    "    print(value)\n",
    "    return\n",
    "highestReminder(30)\n",
    "        "
   ]
  },
  {
   "cell_type": "code",
   "execution_count": null,
   "metadata": {},
   "outputs": [],
   "source": []
  }
 ],
 "metadata": {
  "kernelspec": {
   "display_name": "Python 3",
   "language": "python",
   "name": "python3"
  },
  "language_info": {
   "codemirror_mode": {
    "name": "ipython",
    "version": 3
   },
   "file_extension": ".py",
   "mimetype": "text/x-python",
   "name": "python",
   "nbconvert_exporter": "python",
   "pygments_lexer": "ipython3",
   "version": "3.7.3"
  }
 },
 "nbformat": 4,
 "nbformat_minor": 2
}
